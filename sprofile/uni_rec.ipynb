{
 "cells": [
  {
   "cell_type": "code",
   "execution_count": null,
   "id": "3bd46d14",
   "metadata": {
    "collapsed": true
   },
   "outputs": [],
   "source": [
    "\n",
    "\n"
   ]
  },
  {
   "cell_type": "code",
   "execution_count": 57,
   "id": "83a6c707",
   "metadata": {},
   "outputs": [],
   "source": [
    "df = pd.read_csv(\"uni_rec.csv\") \n",
    "df['chances'] = df['chances'].round(2)\n",
    "df['CGPA'] = df['CGPA'].round(2)\n"
   ]
  },
  {
   "cell_type": "code",
   "execution_count": 60,
   "id": "d6d5f6a9",
   "metadata": {},
   "outputs": [],
   "source": [
    "df.to_csv('uni_rec.csv', index=False)\n"
   ]
  },
  {
   "cell_type": "code",
   "execution_count": 59,
   "id": "d9262ba7",
   "metadata": {},
   "outputs": [],
   "source": [
    "df.sort_values(by='university', inplace=True)"
   ]
  },
  {
   "cell_type": "code",
   "execution_count": 52,
   "id": "7c39ab72",
   "metadata": {},
   "outputs": [
    {
     "data": {
      "text/html": [
       "<div>\n",
       "<style scoped>\n",
       "    .dataframe tbody tr th:only-of-type {\n",
       "        vertical-align: middle;\n",
       "    }\n",
       "\n",
       "    .dataframe tbody tr th {\n",
       "        vertical-align: top;\n",
       "    }\n",
       "\n",
       "    .dataframe thead th {\n",
       "        text-align: right;\n",
       "    }\n",
       "</style>\n",
       "<table border=\"1\" class=\"dataframe\">\n",
       "  <thead>\n",
       "    <tr style=\"text-align: right;\">\n",
       "      <th></th>\n",
       "      <th>student_id</th>\n",
       "      <th>CGPA</th>\n",
       "      <th>GRE</th>\n",
       "      <th>ILETS</th>\n",
       "      <th>TOEFL</th>\n",
       "      <th>research_experience</th>\n",
       "      <th>course</th>\n",
       "      <th>LOR</th>\n",
       "      <th>chances</th>\n",
       "      <th>university</th>\n",
       "    </tr>\n",
       "  </thead>\n",
       "  <tbody>\n",
       "    <tr>\n",
       "      <th>105</th>\n",
       "      <td>105</td>\n",
       "      <td>6.59</td>\n",
       "      <td>275</td>\n",
       "      <td>6</td>\n",
       "      <td>16</td>\n",
       "      <td>yes</td>\n",
       "      <td>MSc in Computer Science</td>\n",
       "      <td>2</td>\n",
       "      <td>1.0</td>\n",
       "      <td>Amity</td>\n",
       "    </tr>\n",
       "    <tr>\n",
       "      <th>137</th>\n",
       "      <td>137</td>\n",
       "      <td>3.80</td>\n",
       "      <td>204</td>\n",
       "      <td>4</td>\n",
       "      <td>36</td>\n",
       "      <td>no</td>\n",
       "      <td>MSc in Computer Science</td>\n",
       "      <td>1</td>\n",
       "      <td>0.4</td>\n",
       "      <td>Amity</td>\n",
       "    </tr>\n",
       "    <tr>\n",
       "      <th>139</th>\n",
       "      <td>139</td>\n",
       "      <td>4.22</td>\n",
       "      <td>156</td>\n",
       "      <td>2</td>\n",
       "      <td>50</td>\n",
       "      <td>yes</td>\n",
       "      <td>MSc in Computer Science</td>\n",
       "      <td>3</td>\n",
       "      <td>0.3</td>\n",
       "      <td>Amity</td>\n",
       "    </tr>\n",
       "    <tr>\n",
       "      <th>23</th>\n",
       "      <td>23</td>\n",
       "      <td>6.01</td>\n",
       "      <td>248</td>\n",
       "      <td>7</td>\n",
       "      <td>61</td>\n",
       "      <td>yes</td>\n",
       "      <td>MSc in Computer Science</td>\n",
       "      <td>1</td>\n",
       "      <td>0.9</td>\n",
       "      <td>Amity</td>\n",
       "    </tr>\n",
       "    <tr>\n",
       "      <th>121</th>\n",
       "      <td>121</td>\n",
       "      <td>9.42</td>\n",
       "      <td>226</td>\n",
       "      <td>1</td>\n",
       "      <td>8</td>\n",
       "      <td>yes</td>\n",
       "      <td>MSc in Computer Science</td>\n",
       "      <td>3</td>\n",
       "      <td>0.3</td>\n",
       "      <td>Amity</td>\n",
       "    </tr>\n",
       "  </tbody>\n",
       "</table>\n",
       "</div>"
      ],
      "text/plain": [
       "     student_id  CGPA  GRE  ILETS  TOEFL research_experience  \\\n",
       "105         105  6.59  275      6     16                 yes   \n",
       "137         137  3.80  204      4     36                  no   \n",
       "139         139  4.22  156      2     50                 yes   \n",
       "23           23  6.01  248      7     61                 yes   \n",
       "121         121  9.42  226      1      8                 yes   \n",
       "\n",
       "                      course  LOR  chances university  \n",
       "105  MSc in Computer Science    2      1.0      Amity  \n",
       "137  MSc in Computer Science    1      0.4      Amity  \n",
       "139  MSc in Computer Science    3      0.3      Amity  \n",
       "23   MSc in Computer Science    1      0.9      Amity  \n",
       "121  MSc in Computer Science    3      0.3      Amity  "
      ]
     },
     "execution_count": 52,
     "metadata": {},
     "output_type": "execute_result"
    }
   ],
   "source": [
    "df.head()"
   ]
  },
  {
   "cell_type": "code",
   "execution_count": 5,
   "id": "8c0f4a55",
   "metadata": {
    "scrolled": true
   },
   "outputs": [
    {
     "data": {
      "text/plain": [
       "['uni_rec_model.joblib']"
      ]
     },
     "execution_count": 5,
     "metadata": {},
     "output_type": "execute_result"
    }
   ],
   "source": [
    "import pandas as pd\n",
    "import numpy as np\n",
    "from sklearn.linear_model import LinearRegression\n",
    "from sklearn.model_selection import train_test_split\n",
    "import keras\n",
    "from joblib import dump, load\n",
    "\n",
    "df = pd.read_csv(\"uni_rec.csv\")\n",
    "\n",
    "X = df[['CGPA', 'GRE', 'ILETS', 'research_experience','course', 'LOR']]\n",
    "y = df[['chances']]\n",
    "\n",
    "X = pd.get_dummies(X, columns=['research_experience','course'])\n",
    "\n",
    "X_train, X_test, y_train, y_test = train_test_split(X, y, test_size=0.2)\n",
    "\n",
    "model = LinearRegression().fit(X_train, y_train)\n",
    "\n",
    "dump(model, 'uni_rec_model.joblib')\n",
    "\n",
    "# model = model.predict(X_test)\n",
    "\n",
    "# score = model.score(X_test, y_test)\n",
    "# print(\"Accuracy:\", score)\n"
   ]
  },
  {
   "cell_type": "code",
   "execution_count": 3,
   "id": "e540a588",
   "metadata": {},
   "outputs": [
    {
     "name": "stdout",
     "output_type": "stream",
     "text": [
      "Accuracy: 0.5512630244877901\n"
     ]
    }
   ],
   "source": [
    "loaded_model = load('uni_rec_model.joblib')\n",
    "y_pred = loaded_model.predict(X_test)\n",
    "\n",
    "score = loaded_model.score(X_test, y_test)\n",
    "print(\"Accuracy:\", score)"
   ]
  },
  {
   "cell_type": "code",
   "execution_count": 7,
   "id": "490cdfe9",
   "metadata": {},
   "outputs": [
    {
     "name": "stdout",
     "output_type": "stream",
     "text": [
      "[[0.16153599]]\n"
     ]
    },
    {
     "name": "stderr",
     "output_type": "stream",
     "text": [
      "c:\\Users\\Nency\\anaconda3\\lib\\site-packages\\sklearn\\base.py:450: UserWarning: X does not have valid feature names, but LinearRegression was fitted with feature names\n",
      "  warnings.warn(\n"
     ]
    }
   ],
   "source": [
    "from sklearn.metrics import r2_score\n",
    "\n",
    "loaded_model = load('uni_rec_model.joblib')\n",
    "# data = [[9.2,314,9,1,0,1,1]]\n",
    "# y_pred = loaded_model.predict(X_test)\n",
    "# score = loaded_model.score(X_test, y_test)\n",
    "# print(\"Accuracy:\", score)\n",
    "\n",
    "data = [[2.40,250,7,1,1,0,1]]\n",
    "y_pred = loaded_model.predict(data)\n",
    "print(y_pred)\n"
   ]
  },
  {
   "cell_type": "code",
   "execution_count": null,
   "id": "422fd629",
   "metadata": {},
   "outputs": [],
   "source": [
    "\n"
   ]
  },
  {
   "cell_type": "code",
   "execution_count": null,
   "id": "f5385176",
   "metadata": {},
   "outputs": [],
   "source": []
  }
 ],
 "metadata": {
  "kernelspec": {
   "display_name": "base",
   "language": "python",
   "name": "python3"
  },
  "language_info": {
   "codemirror_mode": {
    "name": "ipython",
    "version": 3
   },
   "file_extension": ".py",
   "mimetype": "text/x-python",
   "name": "python",
   "nbconvert_exporter": "python",
   "pygments_lexer": "ipython3",
   "version": "3.9.12"
  },
  "vscode": {
   "interpreter": {
    "hash": "e3b1c86cde8b7f4a4ff902521e53fd1c5f4568f4e34366115f6df9db71e0971f"
   }
  }
 },
 "nbformat": 4,
 "nbformat_minor": 5
}
